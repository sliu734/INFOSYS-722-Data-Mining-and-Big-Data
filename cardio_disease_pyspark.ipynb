{
  "nbformat": 4,
  "nbformat_minor": 0,
  "metadata": {
    "colab": {
      "provenance": [],
      "authorship_tag": "ABX9TyPxbHPOY7iM2MHBnjA0q9IO",
      "include_colab_link": true
    },
    "kernelspec": {
      "name": "python3",
      "display_name": "Python 3"
    },
    "language_info": {
      "name": "python"
    }
  },
  "cells": [
    {
      "cell_type": "markdown",
      "metadata": {
        "id": "view-in-github",
        "colab_type": "text"
      },
      "source": [
        "<a href=\"https://colab.research.google.com/github/sliu734/INFOSYS-722-Data-Mining-and-Big-Data/blob/main/cardio_disease_pyspark.ipynb\" target=\"_parent\"><img src=\"https://colab.research.google.com/assets/colab-badge.svg\" alt=\"Open In Colab\"/></a>"
      ]
    },
    {
      "cell_type": "markdown",
      "source": [
        "## 1. PySpark Environment Setup on Google Colab"
      ],
      "metadata": {
        "id": "F-duaS35s7iA"
      }
    },
    {
      "cell_type": "code",
      "execution_count": 1,
      "metadata": {
        "colab": {
          "base_uri": "https://localhost:8080/"
        },
        "id": "Kn263b32qWKn",
        "outputId": "0d08526f-7534-40e5-ceca-e7aac87a5640"
      },
      "outputs": [
        {
          "output_type": "stream",
          "name": "stdout",
          "text": [
            "W: Skipping acquire of configured file 'main/source/Sources' as repository 'https://r2u.stat.illinois.edu/ubuntu jammy InRelease' does not seem to provide it (sources.list entry misspelt?)\n"
          ]
        }
      ],
      "source": [
        "# Install Java (required by Apache Spark)\n",
        "!apt-get update -qq\n",
        "!apt-get install -y openjdk-11-jdk-headless -qq > /dev/null\n",
        "\n",
        "# Install PySpark (a stable version)\n",
        "!pip install -q pyspark==3.5.1"
      ]
    },
    {
      "cell_type": "code",
      "source": [
        "import os\n",
        "\n",
        "# Set Java home path\n",
        "os.environ[\"JAVA_HOME\"] = \"/usr/lib/jvm/java-11-openjdk-amd64\""
      ],
      "metadata": {
        "id": "NaqYFvk4sAu-"
      },
      "execution_count": 2,
      "outputs": []
    },
    {
      "cell_type": "code",
      "source": [
        "from pyspark.sql import SparkSession\n",
        "\n",
        "# Create a Spark session (main entry point for PySpark)\n",
        "spark = (\n",
        "    SparkSession.builder\n",
        "    .appName(\"DataMining-PySpark-on-Colab\")     # Application name\n",
        "    .master(\"local[*]\")                         # Use all available cores\n",
        "    .config(\"spark.driver.memory\", \"4g\")        # Allocate memory for the driver\n",
        "    .config(\"spark.ui.showConsoleProgress\", \"false\")\n",
        "    .getOrCreate()\n",
        ")\n",
        "\n",
        "# Reduce log verbosity (optional)\n",
        "spark.sparkContext.setLogLevel(\"WARN\")\n",
        "\n",
        "print(\"Spark version:\", spark.version)\n",
        "print(\"Default parallelism:\", spark.sparkContext.defaultParallelism)"
      ],
      "metadata": {
        "colab": {
          "base_uri": "https://localhost:8080/"
        },
        "id": "-OnCSr6qsOZ4",
        "outputId": "e2391f20-f400-44c3-8f06-6360e214b783"
      },
      "execution_count": 3,
      "outputs": [
        {
          "output_type": "stream",
          "name": "stdout",
          "text": [
            "Spark version: 3.5.1\n",
            "Default parallelism: 2\n"
          ]
        }
      ]
    },
    {
      "cell_type": "code",
      "source": [
        "from pyspark.sql import functions as F\n",
        "\n",
        "# Create a simple DataFrame\n",
        "test_df = spark.createDataFrame(\n",
        "    [(1, \"Alice\"), (2, \"Bob\"), (3, \"Cathy\")],\n",
        "    [\"id\", \"name\"]\n",
        ")\n",
        "\n",
        "# Check basic operations\n",
        "print(\"Row count:\", test_df.count())\n",
        "test_df.withColumn(\"id_x2\", F.col(\"id\") * 2).show()"
      ],
      "metadata": {
        "colab": {
          "base_uri": "https://localhost:8080/"
        },
        "id": "ed88ffTpsXzg",
        "outputId": "c62f9d59-c8f7-407b-ba2e-27ce75dcc2f3"
      },
      "execution_count": 4,
      "outputs": [
        {
          "output_type": "stream",
          "name": "stdout",
          "text": [
            "Row count: 3\n",
            "+---+-----+-----+\n",
            "| id| name|id_x2|\n",
            "+---+-----+-----+\n",
            "|  1|Alice|    2|\n",
            "|  2|  Bob|    4|\n",
            "|  3|Cathy|    6|\n",
            "+---+-----+-----+\n",
            "\n"
          ]
        }
      ]
    }
  ]
}